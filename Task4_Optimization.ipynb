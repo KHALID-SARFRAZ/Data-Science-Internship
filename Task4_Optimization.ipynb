{
  "nbformat": 4,
  "nbformat_minor": 0,
  "metadata": {
    "colab": {
      "provenance": [],
      "authorship_tag": "ABX9TyP8WJaT+2DMJ+RVYj8rwL4c",
      "include_colab_link": true
    },
    "kernelspec": {
      "name": "python3",
      "display_name": "Python 3"
    },
    "language_info": {
      "name": "python"
    }
  },
  "cells": [
    {
      "cell_type": "markdown",
      "metadata": {
        "id": "view-in-github",
        "colab_type": "text"
      },
      "source": [
        "<a href=\"https://colab.research.google.com/github/KHALID-SARFRAZ/Data-Science-Internship/blob/main/Task4_Optimization.ipynb\" target=\"_parent\"><img src=\"https://colab.research.google.com/assets/colab-badge.svg\" alt=\"Open In Colab\"/></a>"
      ]
    },
    {
      "cell_type": "code",
      "execution_count": 1,
      "metadata": {
        "colab": {
          "base_uri": "https://localhost:8080/"
        },
        "id": "FTR4M_5kF-5S",
        "outputId": "4403ce2a-1856-4d7d-c3ff-a7c7d6eefa4f"
      },
      "outputs": [
        {
          "output_type": "stream",
          "name": "stdout",
          "text": [
            "Collecting pulp\n",
            "  Downloading pulp-3.2.1-py3-none-any.whl.metadata (6.9 kB)\n",
            "Downloading pulp-3.2.1-py3-none-any.whl (16.4 MB)\n",
            "\u001b[2K   \u001b[90m━━━━━━━━━━━━━━━━━━━━━━━━━━━━━━━━━━━━━━━━\u001b[0m \u001b[32m16.4/16.4 MB\u001b[0m \u001b[31m51.6 MB/s\u001b[0m eta \u001b[36m0:00:00\u001b[0m\n",
            "\u001b[?25hInstalling collected packages: pulp\n",
            "Successfully installed pulp-3.2.1\n"
          ]
        }
      ],
      "source": [
        "!pip install pulp\n"
      ]
    },
    {
      "cell_type": "code",
      "source": [
        "# Maximize profit for factory producing 2 products with constraints\n",
        "\n",
        "from pulp import *\n",
        "\n",
        "# Define the problem\n",
        "prob = LpProblem(\"Maximize_Profit\", LpMaximize)\n",
        "\n",
        "# Define decision variables\n",
        "x = LpVariable(\"Product_A\", lowBound=0)\n",
        "y = LpVariable(\"Product_B\", lowBound=0)\n",
        "\n",
        "# Objective Function: Maximize 40x + 30y\n",
        "prob += 40 * x + 30 * y, \"Total Profit\"\n",
        "\n",
        "# Constraints\n",
        "prob += 2 * x + y <= 100  # Material limit\n",
        "prob += x + y <= 80       # Labor limit\n",
        "\n",
        "# Solve\n",
        "prob.solve()\n",
        "\n",
        "# Results\n",
        "print(f\"Status: {LpStatus[prob.status]}\")\n",
        "print(f\"Produce {x.varValue} units of Product A\")\n",
        "print(f\"Produce {y.varValue} units of Product B\")\n",
        "print(f\"Maximum Profit: ₹{value(prob.objective)}\")\n"
      ],
      "metadata": {
        "colab": {
          "base_uri": "https://localhost:8080/"
        },
        "id": "T4RgyxbJGJZo",
        "outputId": "b9d82676-ebaa-4aae-cd61-5baa5c165d03"
      },
      "execution_count": 2,
      "outputs": [
        {
          "output_type": "stream",
          "name": "stdout",
          "text": [
            "Status: Optimal\n",
            "Produce 20.0 units of Product A\n",
            "Produce 60.0 units of Product B\n",
            "Maximum Profit: ₹2600.0\n"
          ]
        }
      ]
    }
  ]
}